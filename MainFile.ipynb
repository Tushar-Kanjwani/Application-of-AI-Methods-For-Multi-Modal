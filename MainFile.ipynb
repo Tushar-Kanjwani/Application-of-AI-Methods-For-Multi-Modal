{
  "nbformat": 4,
  "nbformat_minor": 0,
  "metadata": {
    "colab": {
      "provenance": []
    },
    "kernelspec": {
      "name": "python3",
      "display_name": "Python 3"
    },
    "language_info": {
      "name": "python"
    }
  },
  "cells": [
    {
      "cell_type": "code",
      "source": [
        "import os\n",
        "import matplotlib.pyplot as plt\n",
        "import matplotlib.image as mpimg\n",
        "from tensorflow.keras.models import load_model\n",
        "from PIL import Image\n",
        "import numpy as np"
      ],
      "metadata": {
        "id": "Sy9uWxsym9SF"
      },
      "execution_count": 2,
      "outputs": []
    },
    {
      "cell_type": "markdown",
      "source": [
        "Pneumonia Called (load models accordingly)"
      ],
      "metadata": {
        "id": "zhmNJuX37BqU"
      }
    },
    {
      "cell_type": "code",
      "source": [
        "def pneumoniacall():\n",
        "        print(\"\\nPneumonia Classification Selected\")\n",
        "\n",
        "        # Load the saved models\n",
        "        cnn_model = load_model('/content/Cnn_best_weights.keras')\n",
        "        autoencoder_model = load_model('/content/Autoencoder_best_weights.keras')\n",
        "\n",
        "        def preprocess_image(image_path):\n",
        "            # Load the image\n",
        "            image = Image.open(image_path).convert('L')  # Convert to grayscale\n",
        "            image = image.resize((28, 28))  # Resize to match model input\n",
        "            image_array = np.array(image) / 255.0  # Normalize to [0, 1]\n",
        "            image_array = image_array.reshape(1, 28, 28, 1)  # Add batch and channel dimensions\n",
        "            return image_array\n",
        "\n",
        "        def classify_image(image_path):\n",
        "              # Preprocess the input image\n",
        "              input_image = preprocess_image(image_path)\n",
        "\n",
        "              denoised_image = autoencoder_model.predict(input_image)\n",
        "              input_for_cnn = denoised_image\n",
        "\n",
        "              # Classify the image using the CNN model\n",
        "              predictions = cnn_model.predict(input_for_cnn)\n",
        "              predicted_label = np.argmax(predictions)\n",
        "              return predicted_label\n",
        "\n",
        "        image_path = input(\"Image Path\") #'/content/normal.jpeg'\n",
        "\n",
        "        # Get the predicted label\n",
        "        predicted_label = classify_image(image_path)\n",
        "        print(f\"The predicted label is: {predicted_label}\")\n",
        "        # Print the result\n",
        "        if predicted_label == 1:\n",
        "            print(\"Yes, the patient has pneumonia.\")\n",
        "        else:\n",
        "            print(\"No, the patient does not have pneumonia.\")"
      ],
      "metadata": {
        "id": "erO2wv0C6PXH"
      },
      "execution_count": 3,
      "outputs": []
    },
    {
      "cell_type": "code",
      "source": [
        "def diabetes_classification():\n",
        "    \"\"\"\n",
        "    Manually take user input for features, load the trained model, and predict if the patient has diabetes.\n",
        "    \"\"\"\n",
        "\n",
        "    import numpy as np\n",
        "    from tensorflow.keras.models import load_model\n",
        "\n",
        "    # Selected features\n",
        "    selected_features = ['GenHlth', 'HighBP', 'AnyHealthcare', 'CholCheck', 'PhysActivity',\n",
        "                         'Veggies', 'HighChol', 'Fruits', 'BMI', 'Age']\n",
        "\n",
        "    # Collect user input for each feature\n",
        "    print(\"Please enter the values for the following features:\")\n",
        "    features_input = {}\n",
        "    for feature in selected_features:\n",
        "        while True:\n",
        "            try:\n",
        "                value = float(input(f\"Enter value for {feature}: \"))\n",
        "                features_input[feature] = value\n",
        "                break\n",
        "            except ValueError:\n",
        "                print(\"Invalid input. Please enter a numeric value.\")\n",
        "\n",
        "    # Prepare input data\n",
        "    feature_values = np.array([features_input[feature] for feature in selected_features]).reshape(1, -1, 1)\n",
        "\n",
        "    try:\n",
        "        # Load the pre-trained model\n",
        "        model = load_model('/content/Diabetes_best_model_with_selection.keras')\n",
        "\n",
        "        # Predict the outcome\n",
        "        prediction = model.predict(feature_values)\n",
        "        predicted_label = (prediction > 0.5).astype(int)[0][0]  # Convert probability to binary label\n",
        "        print(f\"The predicted label is: {predicted_label}\")\n",
        "\n",
        "        # Print the result\n",
        "        if predicted_label == 1:\n",
        "            print(\"Yes, the patient has diabetes.\")\n",
        "        else:\n",
        "            print(\"No, the patient does not have diabetes.\")\n",
        "\n",
        "    except Exception as e:\n",
        "        print(f\"Error: Unable to load model or predict. Details: {e}\")"
      ],
      "metadata": {
        "id": "XQ0Ycsvc8Pbs"
      },
      "execution_count": 5,
      "outputs": []
    },
    {
      "cell_type": "markdown",
      "source": [
        "Stroke call"
      ],
      "metadata": {
        "id": "4o-Syz0h-en4"
      }
    },
    {
      "cell_type": "code",
      "source": [
        "def stroke_classification():\n",
        "\n",
        "    # Selected features for Stroke\n",
        "    selected_features = ['AnyHealthcare', 'CholCheck', 'PhysActivity', 'Veggies',\n",
        "                         'Fruits', 'HighBP', 'Sex', 'GenHlth', 'Smoker', 'HighChol']\n",
        "\n",
        "    # Collect user input\n",
        "    print(\"\\n--- Stroke Classification ---\")\n",
        "    features_input = {}\n",
        "    for feature in selected_features:\n",
        "        while True:\n",
        "            try:\n",
        "                value = float(input(f\"Enter value for {feature}: \"))\n",
        "                features_input[feature] = value\n",
        "                break\n",
        "            except ValueError:\n",
        "                print(\"Invalid input. Please enter a numeric value.\")\n",
        "\n",
        "    # Prepare input data\n",
        "    feature_values = np.array([features_input[feature] for feature in selected_features]).reshape(1, -1, 1)\n",
        "\n",
        "    try:\n",
        "        # Load the trained model for Stroke\n",
        "        model = load_model('/content/Stroke_best_model_with_selection.keras')\n",
        "\n",
        "        # Predict using the model\n",
        "        predicted_label = model.predict(feature_values)[0][0]\n",
        "\n",
        "        # Print result\n",
        "        if predicted_label == 1:\n",
        "            print(\"Yes, the patient had a stroke.\")\n",
        "        else:\n",
        "            print(\"No, the patient did not have a stroke.\")\n",
        "    except Exception as e:\n",
        "        print(f\"Error: {e}\")"
      ],
      "metadata": {
        "id": "qI4jSvHt-gvu"
      },
      "execution_count": 6,
      "outputs": []
    },
    {
      "cell_type": "markdown",
      "source": [
        "\n",
        "heart_disease_classification Called"
      ],
      "metadata": {
        "id": "jqt1-ZCJ-rkA"
      }
    },
    {
      "cell_type": "code",
      "source": [
        "def heart_disease_classification():\n",
        "    # Selected features for HeartDiseaseorAttack\n",
        "    selected_features = ['AnyHealthcare', 'CholCheck', 'PhysActivity', 'Veggies',\n",
        "                         'Fruits', 'GenHlth', 'HighBP', 'HighChol', 'Age', 'Sex']\n",
        "\n",
        "    # Collect user input\n",
        "    print(\"\\n--- Heart Disease Classification ---\")\n",
        "    features_input = {}\n",
        "    for feature in selected_features:\n",
        "        while True:\n",
        "            try:\n",
        "                value = float(input(f\"Enter value for {feature}: \"))\n",
        "                features_input[feature] = value\n",
        "                break\n",
        "            except ValueError:\n",
        "                print(\"Invalid input. Please enter a numeric value.\")\n",
        "\n",
        "    # Prepare input data\n",
        "    feature_values = np.array([features_input[feature] for feature in selected_features]).reshape(1, -1, 1)\n",
        "\n",
        "    try:\n",
        "        # Load the trained model for HeartDiseaseorAttack\n",
        "        model = load_model('/content/HeartDiseaseorAttack_best_model_with_selection.keras')\n",
        "\n",
        "        # Predict using the model\n",
        "        predicted_label = model.predict(feature_values)[0][0]\n",
        "\n",
        "        # Print result\n",
        "        if predicted_label == 1:\n",
        "            print(\"Yes, the patient had heart disease or a heart attack.\")\n",
        "        else:\n",
        "            print(\"No, the patient did not have heart disease or a heart attack.\")\n",
        "    except Exception as e:\n",
        "        print(f\"Error: {e}\")\n"
      ],
      "metadata": {
        "id": "fGixDeKq-vEN"
      },
      "execution_count": 7,
      "outputs": []
    },
    {
      "cell_type": "markdown",
      "source": [
        "MultiClassification Called"
      ],
      "metadata": {
        "id": "D6N1hxjgB6Bq"
      }
    },
    {
      "cell_type": "code",
      "source": [
        "def multi_classification():\n",
        "    selected_features = [\n",
        "        \"HighBP\", \"HighChol\", \"CholCheck\", \"BMI\", \"Smoker\", \"PhysActivity\", \"Fruits\",\n",
        "        \"Veggies\", \"HvyAlcoholConsump\", \"AnyHealthcare\", \"NoDocbcCost\", \"GenHlth\",\n",
        "        \"MentHlth\", \"PhysHlth\", \"DiffWalk\", \"Sex\", \"Age\", \"Education\", \"Income\"\n",
        "    ]\n",
        "\n",
        "    # Collect user input for features\n",
        "    print(\"\\n--- Multi-Disease Classification ---\")\n",
        "    features_input = {}\n",
        "    for feature in selected_features:\n",
        "        while True:\n",
        "            try:\n",
        "                value = float(input(f\"Enter value for {feature}: \"))\n",
        "                features_input[feature] = value\n",
        "                break\n",
        "            except ValueError:\n",
        "                print(\"Invalid input. Please enter a numeric value.\")\n",
        "\n",
        "    # Prepare input data for the model\n",
        "    feature_values = np.array([features_input[feature] for feature in selected_features]).reshape(1, -1)\n",
        "\n",
        "    try:\n",
        "        # Load the trained multi-class model\n",
        "        model = load_model('/content/multiclass_best_model.keras')\n",
        "\n",
        "        # Predict using the model\n",
        "        predicted_label = np.argmax(model.predict(feature_values), axis=-1)[0]\n",
        "\n",
        "        # Map prediction to disease\n",
        "        disease_map = {\n",
        "            0: \"No Disease\",\n",
        "            1: \"Diabetes\",\n",
        "            2: \"Stroke\",\n",
        "            3: \"Heart Disease or Attack\"\n",
        "        }\n",
        "\n",
        "        # Display result\n",
        "        result = disease_map.get(predicted_label, \"Unknown\")\n",
        "        if result == \"No Disease\":\n",
        "            print(\"The patient does not have any of the diseases.\")\n",
        "        else:\n",
        "            print(f\"The patient has been diagnosed with: {result}\")\n",
        "    except Exception as e:\n",
        "        print(f\"Error: {e}\")"
      ],
      "metadata": {
        "id": "R-Ibpu0aB8O4"
      },
      "execution_count": 8,
      "outputs": []
    },
    {
      "cell_type": "markdown",
      "source": [
        "Main Method"
      ],
      "metadata": {
        "id": "6WJve2ftM4P7"
      }
    },
    {
      "cell_type": "code",
      "source": [
        "def display_main_menu():\n",
        "    print(\"\\n=== Disease Classification System ===\")\n",
        "    print(\"1. Binary Classification(Know About Any Disease)\")\n",
        "    print(\"2. Multi Classification(Know About Multiple Disease)\")\n",
        "    print(\"3. Exit\")\n",
        "\n",
        "    choice = input(\"Enter your choice (1-3): \")\n",
        "\n",
        "    if choice == \"1\":\n",
        "        binary_classification_menu()\n",
        "    elif choice == \"2\":\n",
        "        multi_classification()\n",
        "    elif choice == \"3\":\n",
        "        print(\"Thank you for using the system. Goodbye!\")\n",
        "        return\n",
        "    else:\n",
        "        print(\"Invalid choice! Please try again.\")\n",
        "\n",
        "def binary_classification_menu():\n",
        "    print(\"\\n=== Binary Classification Menu ===\")\n",
        "    print(\"1. Diabetes\")\n",
        "    print(\"2. Stroke\")\n",
        "    print(\"3. Heart Disease or Attack\")\n",
        "    print(\"4. Pneumonia\")\n",
        "\n",
        "    choice = input(\"Enter your choice (1-5): \")\n",
        "\n",
        "    if choice == \"1\":\n",
        "        print(\"\\nDiabetes Classification Selected\")\n",
        "        diabetes_classification()\n",
        "    elif choice == \"2\":\n",
        "        print(\"\\nStroke Classification Selected\")\n",
        "        stroke_classification()\n",
        "    elif choice == \"3\":\n",
        "        print(\"\\nHeart Disease/Attack Classification Selected\")\n",
        "        heart_disease_classification()\n",
        "    elif choice == \"4\":\n",
        "        print(\"\\nPneumonia Classification Selected\")\n",
        "        pneumoniacall()\n",
        "    else:\n",
        "        print(\"Invalid choice! Please try again.\")\n",
        "        return\n",
        "\n",
        "\n",
        "display_main_menu()"
      ],
      "metadata": {
        "colab": {
          "base_uri": "https://localhost:8080/"
        },
        "id": "mzsGQJtOjSXa",
        "outputId": "28418e63-9fb1-4788-a1ee-2141a2eaeed3"
      },
      "execution_count": 4,
      "outputs": [
        {
          "output_type": "stream",
          "name": "stdout",
          "text": [
            "\n",
            "=== Disease Classification System ===\n",
            "1. Binary Classification(Know About Any Disease)\n",
            "2. Multi Classification(Know About Multiple Disease)\n",
            "3. Exit\n",
            "Enter your choice (1-3): 1\n",
            "\n",
            "=== Binary Classification Menu ===\n",
            "1. Diabetes\n",
            "2. Stroke\n",
            "3. Heart Disease or Attack\n",
            "4. Pneumonia\n",
            "Enter your choice (1-5): 4\n",
            "\n",
            "Pneumonia Classification Selected\n",
            "\n",
            "Pneumonia Classification Selected\n",
            "Image Path/content/normal.jpeg\n",
            "\u001b[1m1/1\u001b[0m \u001b[32m━━━━━━━━━━━━━━━━━━━━\u001b[0m\u001b[37m\u001b[0m \u001b[1m1s\u001b[0m 645ms/step\n",
            "\u001b[1m1/1\u001b[0m \u001b[32m━━━━━━━━━━━━━━━━━━━━\u001b[0m\u001b[37m\u001b[0m \u001b[1m0s\u001b[0m 180ms/step\n",
            "The predicted label is: 1\n",
            "Yes, the patient has pneumonia.\n"
          ]
        }
      ]
    }
  ]
}