{
  "nbformat": 4,
  "nbformat_minor": 0,
  "metadata": {
    "colab": {
      "provenance": []
    },
    "kernelspec": {
      "name": "python3",
      "display_name": "Python 3"
    },
    "language_info": {
      "name": "python"
    }
  },
  "cells": [
    {
      "cell_type": "code",
      "source": [
        "import pandas as pd\n",
        "import numpy as np\n",
        "import tensorflow as tf\n",
        "from tensorflow.keras import layers\n",
        "from sklearn.model_selection import train_test_split\n",
        "from sklearn.preprocessing import StandardScaler\n",
        "from sklearn.feature_selection import SelectKBest, f_classif\n",
        "from sklearn.metrics import classification_report, confusion_matrix, accuracy_score\n",
        "\n",
        "# Load dataset\n",
        "df = pd.read_csv(\"Dataset1.csv\")"
      ],
      "metadata": {
        "id": "Wk-daT0bKfW5"
      },
      "execution_count": 1,
      "outputs": []
    },
    {
      "cell_type": "markdown",
      "source": [
        "Training and Saving Models on each disease(3)"
      ],
      "metadata": {
        "id": "wna14ooCLeC8"
      }
    },
    {
      "cell_type": "code",
      "source": [
        "from sklearn.feature_selection import mutual_info_classif, mutual_info_regression\n"
      ],
      "metadata": {
        "id": "t0Pz71elL2hj"
      },
      "execution_count": 3,
      "outputs": []
    },
    {
      "cell_type": "code",
      "execution_count": 4,
      "metadata": {
        "colab": {
          "base_uri": "https://localhost:8080/"
        },
        "id": "pnPfpgnvKdCr",
        "outputId": "f72f02fe-d8a2-4575-c4ca-16b32a5b3f26"
      },
      "outputs": [
        {
          "output_type": "stream",
          "name": "stdout",
          "text": [
            "\n",
            "--- Training model for Diabetes with Feature Selection ---\n",
            "Selected features for target 'Diabetes': ['GenHlth', 'HighBP', 'AnyHealthcare', 'CholCheck', 'PhysActivity', 'Veggies', 'HighChol', 'Fruits', 'BMI', 'Age']\n",
            "Features for target 'Diabetes': ['GenHlth', 'HighBP', 'AnyHealthcare', 'CholCheck', 'PhysActivity', 'Veggies', 'HighChol', 'Fruits', 'BMI', 'Age']\n"
          ]
        },
        {
          "output_type": "stream",
          "name": "stderr",
          "text": [
            "/usr/local/lib/python3.10/dist-packages/keras/src/layers/convolutional/base_conv.py:107: UserWarning: Do not pass an `input_shape`/`input_dim` argument to a layer. When using Sequential models, prefer using an `Input(shape)` object as the first layer in the model instead.\n",
            "  super().__init__(activity_regularizer=activity_regularizer, **kwargs)\n"
          ]
        },
        {
          "output_type": "stream",
          "name": "stdout",
          "text": [
            "Epoch 1/50\n",
            "\u001b[1m5074/5074\u001b[0m \u001b[32m━━━━━━━━━━━━━━━━━━━━\u001b[0m\u001b[37m\u001b[0m \u001b[1m24s\u001b[0m 4ms/step - accuracy: 0.7053 - loss: 0.4211 - val_accuracy: 0.6245 - val_loss: 0.3746\n",
            "Epoch 2/50\n",
            "\u001b[1m5074/5074\u001b[0m \u001b[32m━━━━━━━━━━━━━━━━━━━━\u001b[0m\u001b[37m\u001b[0m \u001b[1m14s\u001b[0m 3ms/step - accuracy: 0.7071 - loss: 0.3320 - val_accuracy: 0.7357 - val_loss: 0.1939\n",
            "Epoch 3/50\n",
            "\u001b[1m5074/5074\u001b[0m \u001b[32m━━━━━━━━━━━━━━━━━━━━\u001b[0m\u001b[37m\u001b[0m \u001b[1m15s\u001b[0m 3ms/step - accuracy: 0.7106 - loss: -0.1473 - val_accuracy: 0.7203 - val_loss: -1.9357\n",
            "Epoch 4/50\n",
            "\u001b[1m5074/5074\u001b[0m \u001b[32m━━━━━━━━━━━━━━━━━━━━\u001b[0m\u001b[37m\u001b[0m \u001b[1m15s\u001b[0m 3ms/step - accuracy: 0.7323 - loss: -3.6534 - val_accuracy: 0.7693 - val_loss: -9.1809\n",
            "Epoch 5/50\n",
            "\u001b[1m5074/5074\u001b[0m \u001b[32m━━━━━━━━━━━━━━━━━━━━\u001b[0m\u001b[37m\u001b[0m \u001b[1m18s\u001b[0m 4ms/step - accuracy: 0.7525 - loss: -12.7772 - val_accuracy: 0.7689 - val_loss: -26.9623\n",
            "Epoch 6/50\n",
            "\u001b[1m5074/5074\u001b[0m \u001b[32m━━━━━━━━━━━━━━━━━━━━\u001b[0m\u001b[37m\u001b[0m \u001b[1m18s\u001b[0m 3ms/step - accuracy: 0.7213 - loss: -34.5608 - val_accuracy: 0.6953 - val_loss: -45.0873\n",
            "Epoch 7/50\n",
            "\u001b[1m5074/5074\u001b[0m \u001b[32m━━━━━━━━━━━━━━━━━━━━\u001b[0m\u001b[37m\u001b[0m \u001b[1m17s\u001b[0m 3ms/step - accuracy: 0.7152 - loss: -75.4613 - val_accuracy: 0.7412 - val_loss: -96.5271\n",
            "\u001b[1m1586/1586\u001b[0m \u001b[32m━━━━━━━━━━━━━━━━━━━━\u001b[0m\u001b[37m\u001b[0m \u001b[1m3s\u001b[0m 2ms/step\n",
            "\n",
            "Classification Report for Diabetes:\n",
            "              precision    recall  f1-score   support\n",
            "\n",
            "           0       0.89      0.91      0.90     42795\n",
            "           1       0.04      0.29      0.06       944\n",
            "           2       0.00      0.00      0.00      6997\n",
            "\n",
            "    accuracy                           0.77     50736\n",
            "   macro avg       0.31      0.40      0.32     50736\n",
            "weighted avg       0.76      0.77      0.76     50736\n",
            "\n",
            "Confusion Matrix for Diabetes:\n",
            "[[38737  4058     0]\n",
            " [  672   272     0]\n",
            " [ 3881  3116     0]]\n",
            "Saved best model for Diabetes to /content/models/Diabetes_best_model_with_selection.keras\n",
            "\n",
            "--- Training model for Stroke with Feature Selection ---\n"
          ]
        },
        {
          "output_type": "stream",
          "name": "stderr",
          "text": [
            "/usr/local/lib/python3.10/dist-packages/sklearn/metrics/_classification.py:1565: UndefinedMetricWarning: Precision is ill-defined and being set to 0.0 in labels with no predicted samples. Use `zero_division` parameter to control this behavior.\n",
            "  _warn_prf(average, modifier, f\"{metric.capitalize()} is\", len(result))\n",
            "/usr/local/lib/python3.10/dist-packages/sklearn/metrics/_classification.py:1565: UndefinedMetricWarning: Precision is ill-defined and being set to 0.0 in labels with no predicted samples. Use `zero_division` parameter to control this behavior.\n",
            "  _warn_prf(average, modifier, f\"{metric.capitalize()} is\", len(result))\n",
            "/usr/local/lib/python3.10/dist-packages/sklearn/metrics/_classification.py:1565: UndefinedMetricWarning: Precision is ill-defined and being set to 0.0 in labels with no predicted samples. Use `zero_division` parameter to control this behavior.\n",
            "  _warn_prf(average, modifier, f\"{metric.capitalize()} is\", len(result))\n",
            "/usr/local/lib/python3.10/dist-packages/sklearn/metrics/_classification.py:1565: UndefinedMetricWarning: Precision is ill-defined and being set to 0.0 in labels with no predicted samples. Use `zero_division` parameter to control this behavior.\n",
            "  _warn_prf(average, modifier, f\"{metric.capitalize()} is\", len(result))\n",
            "/usr/local/lib/python3.10/dist-packages/sklearn/metrics/_classification.py:1565: UndefinedMetricWarning: Precision is ill-defined and being set to 0.0 in labels with no predicted samples. Use `zero_division` parameter to control this behavior.\n",
            "  _warn_prf(average, modifier, f\"{metric.capitalize()} is\", len(result))\n",
            "/usr/local/lib/python3.10/dist-packages/sklearn/metrics/_classification.py:1565: UndefinedMetricWarning: Precision is ill-defined and being set to 0.0 in labels with no predicted samples. Use `zero_division` parameter to control this behavior.\n",
            "  _warn_prf(average, modifier, f\"{metric.capitalize()} is\", len(result))\n"
          ]
        },
        {
          "output_type": "stream",
          "name": "stdout",
          "text": [
            "Selected features for target 'Stroke': ['AnyHealthcare', 'CholCheck', 'PhysActivity', 'Veggies', 'Fruits', 'HighBP', 'HighChol', 'Smoker', 'Sex', 'GenHlth']\n",
            "Features for target 'Stroke': ['AnyHealthcare', 'CholCheck', 'PhysActivity', 'Veggies', 'Fruits', 'HighBP', 'HighChol', 'Smoker', 'Sex', 'GenHlth']\n",
            "Epoch 1/50\n"
          ]
        },
        {
          "output_type": "stream",
          "name": "stderr",
          "text": [
            "/usr/local/lib/python3.10/dist-packages/keras/src/layers/convolutional/base_conv.py:107: UserWarning: Do not pass an `input_shape`/`input_dim` argument to a layer. When using Sequential models, prefer using an `Input(shape)` object as the first layer in the model instead.\n",
            "  super().__init__(activity_regularizer=activity_regularizer, **kwargs)\n"
          ]
        },
        {
          "output_type": "stream",
          "name": "stdout",
          "text": [
            "\u001b[1m5074/5074\u001b[0m \u001b[32m━━━━━━━━━━━━━━━━━━━━\u001b[0m\u001b[37m\u001b[0m \u001b[1m18s\u001b[0m 3ms/step - accuracy: 0.9575 - loss: 0.1662 - val_accuracy: 0.9602 - val_loss: 0.1488\n",
            "Epoch 2/50\n",
            "\u001b[1m5074/5074\u001b[0m \u001b[32m━━━━━━━━━━━━━━━━━━━━\u001b[0m\u001b[37m\u001b[0m \u001b[1m20s\u001b[0m 3ms/step - accuracy: 0.9585 - loss: 0.1549 - val_accuracy: 0.9602 - val_loss: 0.1498\n",
            "Epoch 3/50\n",
            "\u001b[1m5074/5074\u001b[0m \u001b[32m━━━━━━━━━━━━━━━━━━━━\u001b[0m\u001b[37m\u001b[0m \u001b[1m21s\u001b[0m 3ms/step - accuracy: 0.9592 - loss: 0.1509 - val_accuracy: 0.9602 - val_loss: 0.1484\n",
            "Epoch 4/50\n",
            "\u001b[1m5074/5074\u001b[0m \u001b[32m━━━━━━━━━━━━━━━━━━━━\u001b[0m\u001b[37m\u001b[0m \u001b[1m21s\u001b[0m 3ms/step - accuracy: 0.9593 - loss: 0.1511 - val_accuracy: 0.9602 - val_loss: 0.1495\n",
            "\u001b[1m1586/1586\u001b[0m \u001b[32m━━━━━━━━━━━━━━━━━━━━\u001b[0m\u001b[37m\u001b[0m \u001b[1m2s\u001b[0m 1ms/step\n",
            "\n",
            "Classification Report for Stroke:\n",
            "              precision    recall  f1-score   support\n",
            "\n",
            "           0       0.96      1.00      0.98     48679\n",
            "           1       0.00      0.00      0.00      2057\n",
            "\n",
            "    accuracy                           0.96     50736\n",
            "   macro avg       0.48      0.50      0.49     50736\n",
            "weighted avg       0.92      0.96      0.94     50736\n",
            "\n",
            "Confusion Matrix for Stroke:\n",
            "[[48679     0]\n",
            " [ 2057     0]]\n",
            "Saved best model for Stroke to /content/models/Stroke_best_model_with_selection.keras\n",
            "\n",
            "--- Training model for HeartDiseaseorAttack with Feature Selection ---\n"
          ]
        },
        {
          "output_type": "stream",
          "name": "stderr",
          "text": [
            "/usr/local/lib/python3.10/dist-packages/sklearn/metrics/_classification.py:1565: UndefinedMetricWarning: Precision is ill-defined and being set to 0.0 in labels with no predicted samples. Use `zero_division` parameter to control this behavior.\n",
            "  _warn_prf(average, modifier, f\"{metric.capitalize()} is\", len(result))\n",
            "/usr/local/lib/python3.10/dist-packages/sklearn/metrics/_classification.py:1565: UndefinedMetricWarning: Precision is ill-defined and being set to 0.0 in labels with no predicted samples. Use `zero_division` parameter to control this behavior.\n",
            "  _warn_prf(average, modifier, f\"{metric.capitalize()} is\", len(result))\n",
            "/usr/local/lib/python3.10/dist-packages/sklearn/metrics/_classification.py:1565: UndefinedMetricWarning: Precision is ill-defined and being set to 0.0 in labels with no predicted samples. Use `zero_division` parameter to control this behavior.\n",
            "  _warn_prf(average, modifier, f\"{metric.capitalize()} is\", len(result))\n",
            "/usr/local/lib/python3.10/dist-packages/sklearn/metrics/_classification.py:1565: UndefinedMetricWarning: Precision is ill-defined and being set to 0.0 in labels with no predicted samples. Use `zero_division` parameter to control this behavior.\n",
            "  _warn_prf(average, modifier, f\"{metric.capitalize()} is\", len(result))\n",
            "/usr/local/lib/python3.10/dist-packages/sklearn/metrics/_classification.py:1565: UndefinedMetricWarning: Precision is ill-defined and being set to 0.0 in labels with no predicted samples. Use `zero_division` parameter to control this behavior.\n",
            "  _warn_prf(average, modifier, f\"{metric.capitalize()} is\", len(result))\n",
            "/usr/local/lib/python3.10/dist-packages/sklearn/metrics/_classification.py:1565: UndefinedMetricWarning: Precision is ill-defined and being set to 0.0 in labels with no predicted samples. Use `zero_division` parameter to control this behavior.\n",
            "  _warn_prf(average, modifier, f\"{metric.capitalize()} is\", len(result))\n"
          ]
        },
        {
          "output_type": "stream",
          "name": "stdout",
          "text": [
            "Selected features for target 'HeartDiseaseorAttack': ['AnyHealthcare', 'CholCheck', 'PhysActivity', 'Veggies', 'HighBP', 'Fruits', 'GenHlth', 'HighChol', 'Age', 'Smoker']\n",
            "Features for target 'HeartDiseaseorAttack': ['AnyHealthcare', 'CholCheck', 'PhysActivity', 'Veggies', 'HighBP', 'Fruits', 'GenHlth', 'HighChol', 'Age', 'Smoker']\n",
            "Epoch 1/50\n"
          ]
        },
        {
          "output_type": "stream",
          "name": "stderr",
          "text": [
            "/usr/local/lib/python3.10/dist-packages/keras/src/layers/convolutional/base_conv.py:107: UserWarning: Do not pass an `input_shape`/`input_dim` argument to a layer. When using Sequential models, prefer using an `Input(shape)` object as the first layer in the model instead.\n",
            "  super().__init__(activity_regularizer=activity_regularizer, **kwargs)\n"
          ]
        },
        {
          "output_type": "stream",
          "name": "stdout",
          "text": [
            "\u001b[1m5074/5074\u001b[0m \u001b[32m━━━━━━━━━━━━━━━━━━━━\u001b[0m\u001b[37m\u001b[0m \u001b[1m16s\u001b[0m 3ms/step - accuracy: 0.9024 - loss: 0.2673 - val_accuracy: 0.9051 - val_loss: 0.2492\n",
            "Epoch 2/50\n",
            "\u001b[1m5074/5074\u001b[0m \u001b[32m━━━━━━━━━━━━━━━━━━━━\u001b[0m\u001b[37m\u001b[0m \u001b[1m14s\u001b[0m 3ms/step - accuracy: 0.9067 - loss: 0.2503 - val_accuracy: 0.9052 - val_loss: 0.2499\n",
            "Epoch 3/50\n",
            "\u001b[1m5074/5074\u001b[0m \u001b[32m━━━━━━━━━━━━━━━━━━━━\u001b[0m\u001b[37m\u001b[0m \u001b[1m16s\u001b[0m 3ms/step - accuracy: 0.9060 - loss: 0.2502 - val_accuracy: 0.9051 - val_loss: 0.2530\n",
            "Epoch 4/50\n",
            "\u001b[1m5074/5074\u001b[0m \u001b[32m━━━━━━━━━━━━━━━━━━━━\u001b[0m\u001b[37m\u001b[0m \u001b[1m20s\u001b[0m 3ms/step - accuracy: 0.9061 - loss: 0.2468 - val_accuracy: 0.9051 - val_loss: 0.2504\n",
            "Epoch 5/50\n",
            "\u001b[1m5074/5074\u001b[0m \u001b[32m━━━━━━━━━━━━━━━━━━━━\u001b[0m\u001b[37m\u001b[0m \u001b[1m15s\u001b[0m 3ms/step - accuracy: 0.9062 - loss: 0.2483 - val_accuracy: 0.9052 - val_loss: 0.2488\n",
            "\u001b[1m1586/1586\u001b[0m \u001b[32m━━━━━━━━━━━━━━━━━━━━\u001b[0m\u001b[37m\u001b[0m \u001b[1m2s\u001b[0m 1ms/step\n",
            "\n",
            "Classification Report for HeartDiseaseorAttack:\n",
            "              precision    recall  f1-score   support\n",
            "\n",
            "           0       0.91      1.00      0.95     45968\n",
            "           1       0.58      0.04      0.08      4768\n",
            "\n",
            "    accuracy                           0.91     50736\n",
            "   macro avg       0.74      0.52      0.51     50736\n",
            "weighted avg       0.88      0.91      0.87     50736\n",
            "\n",
            "Confusion Matrix for HeartDiseaseorAttack:\n",
            "[[45826   142]\n",
            " [ 4572   196]]\n",
            "Saved best model for HeartDiseaseorAttack to /content/models/HeartDiseaseorAttack_best_model_with_selection.keras\n"
          ]
        }
      ],
      "source": [
        "# Define disease labels (targets)\n",
        "diseases = [\"Diabetes\", \"Stroke\", \"HeartDiseaseorAttack\"]\n",
        "\n",
        "# Define feature columns (all except target labels)\n",
        "features = [col for col in df.columns if col not in diseases]\n",
        "\n",
        "# Initialize an empty dictionary to store selected features\n",
        "selected_features_dict = {}\n",
        "\n",
        "# Feature Selection Function\n",
        "def select_important_features(features, target, num_features=10):\n",
        "    # Determine if the target is for classification or regression\n",
        "    if pd.api.types.is_numeric_dtype(target) and target.nunique() > 10:  # Assuming regression if more than 10 unique values\n",
        "        mutual_info = mutual_info_regression(features, target)\n",
        "    else:\n",
        "        mutual_info = mutual_info_classif(features, target)\n",
        "\n",
        "    feature_scores = pd.Series(mutual_info, index=features.columns)\n",
        "    selected_features = feature_scores.nlargest(num_features).index.tolist()\n",
        "    print(f\"Selected features for target '{target.name}': {selected_features}\")\n",
        "    return selected_features\n",
        "\n",
        "\n",
        "# Preprocess data with feature selection\n",
        "def preprocess_data_with_selection(features, target, num_features):\n",
        "    # Feature Selection\n",
        "    selected_features = select_important_features(df[features], df[target], num_features)\n",
        "\n",
        "    print(f\"Features for target '{target}': {selected_features}\")\n",
        "\n",
        "    # Store selected features in the dictionary\n",
        "    selected_features_dict[target] = selected_features\n",
        "\n",
        "    # Prepare data\n",
        "    X = df[selected_features].values\n",
        "    y = df[target].values\n",
        "    X = np.expand_dims(X, axis=-1)  # Reshape for CNN (samples, features, 1)\n",
        "    return train_test_split(X, y, test_size=0.2, random_state=42)\n",
        "\n",
        "# CNN model\n",
        "def build_cnn(input_shape):\n",
        "    model = tf.keras.Sequential([\n",
        "        tf.keras.layers.Conv1D(32, kernel_size=3, activation='relu', input_shape=input_shape),\n",
        "        tf.keras.layers.MaxPooling1D(pool_size=2),\n",
        "        tf.keras.layers.Conv1D(64, kernel_size=3, activation='relu'),\n",
        "        tf.keras.layers.MaxPooling1D(pool_size=2),\n",
        "        tf.keras.layers.Flatten(),\n",
        "        tf.keras.layers.Dense(128, activation='relu'),\n",
        "        tf.keras.layers.Dense(1, activation='sigmoid')  # Binary classification\n",
        "    ])\n",
        "    model.compile(optimizer='adam', loss='binary_crossentropy', metrics=['accuracy'])\n",
        "    return model\n",
        "\n",
        "# Target diseases\n",
        "diseases = [\"Diabetes\", \"Stroke\", \"HeartDiseaseorAttack\"]\n",
        "\n",
        "# Train and evaluate models with feature selection\n",
        "results = {}\n",
        "num_features = 10  # Select top 10 features for each disease\n",
        "for disease in diseases:\n",
        "    print(f\"\\n--- Training model for {disease} with Feature Selection ---\")\n",
        "    features = [col for col in df.columns if col != disease]\n",
        "    X_train, X_test, y_train, y_test = preprocess_data_with_selection(features, disease, num_features)\n",
        "\n",
        "    input_shape = (X_train.shape[1], 1)\n",
        "    model = build_cnn(input_shape)\n",
        "\n",
        "    # Early stopping\n",
        "    early_stopping = tf.keras.callbacks.EarlyStopping(\n",
        "        monitor=\"val_accuracy\", patience=3, restore_best_weights=True\n",
        "    )\n",
        "\n",
        "    # Train model\n",
        "    history = model.fit(\n",
        "        X_train, y_train,\n",
        "        epochs=50,\n",
        "        batch_size=32,\n",
        "        validation_split=0.2,\n",
        "        callbacks=[early_stopping],\n",
        "        verbose=1\n",
        "    )\n",
        "\n",
        "    # Evaluate model\n",
        "    y_pred = (model.predict(X_test) > 0.5).astype(int)\n",
        "    print(f\"\\nClassification Report for {disease}:\")\n",
        "    report = classification_report(y_test, y_pred, output_dict=True)\n",
        "    print(classification_report(y_test, y_pred))\n",
        "\n",
        "    # Confusion matrix\n",
        "    cm = confusion_matrix(y_test, y_pred)\n",
        "    print(f\"Confusion Matrix for {disease}:\\n{cm}\")\n",
        "\n",
        "    # Save model with max validation accuracy\n",
        "    model_file = f\"/content/models/{disease}_best_model_with_selection.keras\"\n",
        "    model.save(model_file)\n",
        "    print(f\"Saved best model for {disease} to {model_file}\")\n",
        "\n",
        "    # Store results\n",
        "    results[disease] = {\n",
        "        \"model\": model,\n",
        "        \"history\": history,\n",
        "        \"classification_report\": report,\n",
        "        \"confusion_matrix\": cm,\n",
        "    }"
      ]
    },
    {
      "cell_type": "markdown",
      "source": [
        "Training MultiClassification Model"
      ],
      "metadata": {
        "id": "0_bC_jWxMDPt"
      }
    },
    {
      "cell_type": "code",
      "source": [
        "from sklearn.metrics import classification_report, accuracy_score, f1_score, precision_score, recall_score, confusion_matrix\n",
        "import tensorflow as tf\n",
        "from sklearn.model_selection import train_test_split\n",
        "import numpy as np\n",
        "\n",
        "# Build CNN model for multi-class classification\n",
        "def build_cnn_multiclass(input_shape):\n",
        "    model = tf.keras.Sequential([\n",
        "        tf.keras.layers.Conv1D(32, kernel_size=3, activation='relu', input_shape=input_shape),\n",
        "        tf.keras.layers.MaxPooling1D(pool_size=2),\n",
        "        tf.keras.layers.Conv1D(64, kernel_size=3, activation='relu'),\n",
        "        tf.keras.layers.MaxPooling1D(pool_size=2),\n",
        "        tf.keras.layers.Flatten(),\n",
        "        tf.keras.layers.Dense(128, activation='relu'),\n",
        "        tf.keras.layers.Dense(3, activation='softmax')  # 3 output units for multi-class\n",
        "    ])\n",
        "    model.compile(optimizer='adam', loss='categorical_crossentropy', metrics=['accuracy'])\n",
        "    return model\n",
        "\n",
        "# Preprocess data for multi-class classification\n",
        "def preprocess_data_multiclass(features, diseases):\n",
        "    # Prepare features and target\n",
        "    X = df[features].values\n",
        "    y = df[diseases].values  # Multi-target columns for diseases\n",
        "    X = np.expand_dims(X, axis=-1)  # Reshape for CNN (samples, features, 1)\n",
        "    return train_test_split(X, y, test_size=0.2, random_state=42)\n",
        "\n",
        "# Target diseases\n",
        "diseases = [\"Diabetes\", \"Stroke\", \"HeartDiseaseorAttack\"]\n",
        "\n",
        "# Define feature columns (all except target labels)\n",
        "features = [col for col in df.columns if col not in diseases]\n",
        "\n",
        "# Preprocess data\n",
        "X_train, X_test, y_train, y_test = preprocess_data_multiclass(features, diseases)\n",
        "\n",
        "# Build CNN model for multi-class classification\n",
        "input_shape = (X_train.shape[1], 1)\n",
        "model = build_cnn_multiclass(input_shape)\n",
        "\n",
        "# Early stopping\n",
        "early_stopping = tf.keras.callbacks.EarlyStopping(\n",
        "    monitor=\"val_loss\", patience=3, restore_best_weights=True\n",
        ")\n",
        "\n",
        "# Train model\n",
        "history = model.fit(\n",
        "    X_train, y_train,\n",
        "    epochs=20,\n",
        "    batch_size=32,\n",
        "    validation_split=0.2,\n",
        "    callbacks=[early_stopping],\n",
        "    verbose=1\n",
        ")\n",
        "\n",
        "# Evaluate model\n",
        "y_pred = model.predict(X_test)\n",
        "y_pred_class = np.argmax(y_pred, axis=1)\n",
        "y_test_class = np.argmax(y_test, axis=1)\n",
        "\n",
        "# Classification Report and Metrics\n",
        "print(\"\\nClassification Report:\")\n",
        "report = classification_report(y_test_class, y_pred_class, target_names=diseases)\n",
        "print(report)\n",
        "\n",
        "# Accuracy, Precision, Recall, F1 Score\n",
        "accuracy = accuracy_score(y_test_class, y_pred_class)\n",
        "precision = precision_score(y_test_class, y_pred_class, average='weighted')\n",
        "recall = recall_score(y_test_class, y_pred_class, average='weighted')\n",
        "f1 = f1_score(y_test_class, y_pred_class, average='weighted')\n",
        "\n",
        "print(f\"Accuracy: {accuracy:.4f}\")\n",
        "print(f\"Precision: {precision:.4f}\")\n",
        "print(f\"Recall: {recall:.4f}\")\n",
        "print(f\"F1 Score: {f1:.4f}\")\n",
        "\n",
        "# Confusion Matrix\n",
        "cm = confusion_matrix(y_test_class, y_pred_class)\n",
        "print(f\"Confusion Matrix:\\n{cm}\")\n",
        "\n",
        "# Save model with max validation accuracy\n",
        "model_file = \"/content/models/multiclass_best_model.keras\"\n",
        "model.save(model_file)\n",
        "print(f\"Saved best model to {model_file}\")\n"
      ],
      "metadata": {
        "colab": {
          "base_uri": "https://localhost:8080/"
        },
        "id": "8DIF36vHKzZc",
        "outputId": "f61ad718-2acd-4a89-abeb-aa268aace49a"
      },
      "execution_count": 5,
      "outputs": [
        {
          "output_type": "stream",
          "name": "stdout",
          "text": [
            "Epoch 1/20\n"
          ]
        },
        {
          "output_type": "stream",
          "name": "stderr",
          "text": [
            "/usr/local/lib/python3.10/dist-packages/keras/src/layers/convolutional/base_conv.py:107: UserWarning: Do not pass an `input_shape`/`input_dim` argument to a layer. When using Sequential models, prefer using an `Input(shape)` object as the first layer in the model instead.\n",
            "  super().__init__(activity_regularizer=activity_regularizer, **kwargs)\n"
          ]
        },
        {
          "output_type": "stream",
          "name": "stdout",
          "text": [
            "\u001b[1m5074/5074\u001b[0m \u001b[32m━━━━━━━━━━━━━━━━━━━━\u001b[0m\u001b[37m\u001b[0m \u001b[1m25s\u001b[0m 5ms/step - accuracy: 0.5061 - loss: 36181.4023 - val_accuracy: 0.0560 - val_loss: 590345.5000\n",
            "Epoch 2/20\n",
            "\u001b[1m5074/5074\u001b[0m \u001b[32m━━━━━━━━━━━━━━━━━━━━\u001b[0m\u001b[37m\u001b[0m \u001b[1m38s\u001b[0m 4ms/step - accuracy: 0.4853 - loss: 686008.7500 - val_accuracy: 0.2078 - val_loss: 1007243.4375\n",
            "Epoch 3/20\n",
            "\u001b[1m5074/5074\u001b[0m \u001b[32m━━━━━━━━━━━━━━━━━━━━\u001b[0m\u001b[37m\u001b[0m \u001b[1m42s\u001b[0m 4ms/step - accuracy: 0.4915 - loss: 2550766.0000 - val_accuracy: 0.0530 - val_loss: 4842902.0000\n",
            "Epoch 4/20\n",
            "\u001b[1m5074/5074\u001b[0m \u001b[32m━━━━━━━━━━━━━━━━━━━━\u001b[0m\u001b[37m\u001b[0m \u001b[1m19s\u001b[0m 4ms/step - accuracy: 0.4991 - loss: 5876947.0000 - val_accuracy: 0.9204 - val_loss: 6311167.5000\n",
            "\u001b[1m1586/1586\u001b[0m \u001b[32m━━━━━━━━━━━━━━━━━━━━\u001b[0m\u001b[37m\u001b[0m \u001b[1m3s\u001b[0m 2ms/step\n",
            "\n",
            "Classification Report:\n",
            "                      precision    recall  f1-score   support\n",
            "\n",
            "            Diabetes       0.75      0.00      0.01     46698\n",
            "              Stroke       0.00      0.00      0.00      1373\n",
            "HeartDiseaseorAttack       0.05      0.99      0.10      2665\n",
            "\n",
            "            accuracy                           0.06     50736\n",
            "           macro avg       0.27      0.33      0.04     50736\n",
            "        weighted avg       0.69      0.06      0.01     50736\n",
            "\n",
            "Accuracy: 0.0554\n",
            "Precision: 0.6921\n",
            "Recall: 0.0554\n",
            "F1 Score: 0.0122\n",
            "Confusion Matrix:\n",
            "[[  179     0 46519]\n",
            " [   26     0  1347]\n",
            " [   34     0  2631]]\n",
            "Saved best model to /content/models/multiclass_best_model.keras\n"
          ]
        },
        {
          "output_type": "stream",
          "name": "stderr",
          "text": [
            "/usr/local/lib/python3.10/dist-packages/sklearn/metrics/_classification.py:1565: UndefinedMetricWarning: Precision is ill-defined and being set to 0.0 in labels with no predicted samples. Use `zero_division` parameter to control this behavior.\n",
            "  _warn_prf(average, modifier, f\"{metric.capitalize()} is\", len(result))\n",
            "/usr/local/lib/python3.10/dist-packages/sklearn/metrics/_classification.py:1565: UndefinedMetricWarning: Precision is ill-defined and being set to 0.0 in labels with no predicted samples. Use `zero_division` parameter to control this behavior.\n",
            "  _warn_prf(average, modifier, f\"{metric.capitalize()} is\", len(result))\n",
            "/usr/local/lib/python3.10/dist-packages/sklearn/metrics/_classification.py:1565: UndefinedMetricWarning: Precision is ill-defined and being set to 0.0 in labels with no predicted samples. Use `zero_division` parameter to control this behavior.\n",
            "  _warn_prf(average, modifier, f\"{metric.capitalize()} is\", len(result))\n",
            "/usr/local/lib/python3.10/dist-packages/sklearn/metrics/_classification.py:1565: UndefinedMetricWarning: Precision is ill-defined and being set to 0.0 in labels with no predicted samples. Use `zero_division` parameter to control this behavior.\n",
            "  _warn_prf(average, modifier, f\"{metric.capitalize()} is\", len(result))\n"
          ]
        }
      ]
    }
  ]
}